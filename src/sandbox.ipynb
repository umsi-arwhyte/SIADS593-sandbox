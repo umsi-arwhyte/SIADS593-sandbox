{
 "cells": [
  {
   "cell_type": "code",
   "execution_count": null,
   "id": "ee6ad845",
   "metadata": {
    "vscode": {
     "languageId": "plaintext"
    }
   },
   "outputs": [],
   "source": [
    "nums = [1, 2, 3, 4, 5]\n",
    "\n",
    "\n",
    "def sum_of_squares(numbers):\n",
    "    return sum(x**2 for x in numbers)\n",
    "\n",
    "\n",
    "result = sum_of_squares(nums)\n",
    "print(f\"The sum of squares of {nums} is {result}\")\n"
   ]
  }
 ],
 "metadata": {
  "language_info": {
   "name": "python"
  }
 },
 "nbformat": 4,
 "nbformat_minor": 5
}
